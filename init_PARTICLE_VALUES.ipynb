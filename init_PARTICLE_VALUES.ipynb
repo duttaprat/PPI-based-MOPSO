{
 "cells": [
  {
   "cell_type": "code",
   "execution_count": 2,
   "metadata": {},
   "outputs": [],
   "source": [
    "# FUNCTION TO INITIALISE POSITION OF PARTICLES IN POPULATION\n",
    "\n",
    "import random\n",
    "from math import *\n",
    "import numpy\n",
    "\n",
    "def initialise_PARTICLE_VALUES(COUNT,SWARM_SIZE):\n",
    "    xmin=-5.12\n",
    "    xmax=5.12\n",
    "    initial=[[abs(xmin+random.uniform(0,1)*(xmax-xmin)) for j in range(COUNT)] for i in range(SWARM_SIZE)]\n",
    "    return(initial)"
   ]
  },
  {
   "cell_type": "code",
   "execution_count": null,
   "metadata": {},
   "outputs": [],
   "source": []
  },
  {
   "cell_type": "code",
   "execution_count": null,
   "metadata": {},
   "outputs": [],
   "source": []
  }
 ],
 "metadata": {
  "kernelspec": {
   "display_name": "Python 2",
   "language": "python",
   "name": "python2"
  },
  "language_info": {
   "codemirror_mode": {
    "name": "ipython",
    "version": 2
   },
   "file_extension": ".py",
   "mimetype": "text/x-python",
   "name": "python",
   "nbconvert_exporter": "python",
   "pygments_lexer": "ipython2",
   "version": "2.7.14"
  }
 },
 "nbformat": 4,
 "nbformat_minor": 2
}
