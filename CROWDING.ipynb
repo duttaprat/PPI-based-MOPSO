{
 "cells": [
  {
   "cell_type": "code",
   "execution_count": 1,
   "metadata": {},
   "outputs": [
    {
     "name": "stdout",
     "output_type": "stream",
     "text": [
      "Importing Jupyter notebook from FITNESS_SORT.ipynb\n",
      "Importing Jupyter notebook from DISTANCE_COMPUTATION.ipynb\n",
      "Importing Jupyter notebook from CROWD_SORT.ipynb\n",
      "Importing Jupyter notebook from CROWD_SORT.ipynb\n",
      "Importing Jupyter notebook from DISTANCE_COMPUTATION.ipynb\n",
      "Importing Jupyter notebook from FITNESS_SORT.ipynb\n"
     ]
    }
   ],
   "source": [
    "# COMPUTE CROWDING DISTANCES OF PARTICLES IN ARCHIVE\n",
    "\n",
    "import nbimporter\n",
    "import random\n",
    "from math import *\n",
    "import copy\n",
    "import numpy\n",
    "import FITNESS_SORT\n",
    "import DISTANCE_COMPUTATION\n",
    "import CROWD_SORT\n",
    "reload(CROWD_SORT)\n",
    "reload(DISTANCE_COMPUTATION)\n",
    "reload(FITNESS_SORT)\n",
    "\n",
    "\n",
    "def crowding_distance(no_of_nondom_sol,no_of_obj_func,COUNT,ARCHIVE_FIT,ARCHIVE_VAL):\n",
    "    CrowdList=[float(0.0) for i in range(no_of_nondom_sol)]   #initialise crowding distance values\n",
    "    # objective function 1\n",
    "    begin=0\n",
    "    # sort fitness values\n",
    "    no_of_nondom_sol=FITNESS_SORT.sort_fitness(0,begin,no_of_nondom_sol,no_of_obj_func,COUNT,ARCHIVE_FIT,ARCHIVE_VAL,CrowdList,1)\n",
    "    # compute crowding distance\n",
    "    no_of_nondom_sol=DISTANCE_COMPUTATION.compute_distance(0,no_of_nondom_sol,CrowdList,ARCHIVE_FIT,1)\n",
    "    # objective function 2\n",
    "    begin=0\n",
    "    # sort fitness values\n",
    "    no_of_nondom_sol=FITNESS_SORT.sort_fitness(1,begin,no_of_nondom_sol,no_of_obj_func,COUNT,ARCHIVE_FIT,ARCHIVE_VAL,CrowdList,1)\n",
    "    # compute crowding distance\n",
    "    no_of_nondom_sol=DISTANCE_COMPUTATION.compute_distance(1,no_of_nondom_sol,CrowdList,ARCHIVE_FIT,1)\n",
    "    # objective function 3\n",
    "    begin=0\n",
    "    # sort fitness values\n",
    "    no_of_nondom_sol=FITNESS_SORT.sort_fitness(2,begin,no_of_nondom_sol,no_of_obj_func,COUNT,ARCHIVE_FIT,ARCHIVE_VAL,CrowdList,2)\n",
    "    # compute crowding distance\n",
    "    no_of_nondom_sol=DISTANCE_COMPUTATION.compute_distance(2,no_of_nondom_sol,CrowdList,ARCHIVE_FIT,2)\n",
    "    \n",
    "    begin=0\n",
    "    # sort crowding distance values\n",
    "    no_of_nondom_sol=CROWD_SORT.sort_crowd(begin,no_of_nondom_sol,no_of_obj_func,COUNT,ARCHIVE_FIT,ARCHIVE_VAL,CrowdList)\n",
    "    return(no_of_nondom_sol)"
   ]
  },
  {
   "cell_type": "code",
   "execution_count": null,
   "metadata": {},
   "outputs": [],
   "source": []
  }
 ],
 "metadata": {
  "kernelspec": {
   "display_name": "Python 2",
   "language": "python",
   "name": "python2"
  },
  "language_info": {
   "codemirror_mode": {
    "name": "ipython",
    "version": 2
   },
   "file_extension": ".py",
   "mimetype": "text/x-python",
   "name": "python",
   "nbconvert_exporter": "python",
   "pygments_lexer": "ipython2",
   "version": "2.7.14"
  }
 },
 "nbformat": 4,
 "nbformat_minor": 2
}
