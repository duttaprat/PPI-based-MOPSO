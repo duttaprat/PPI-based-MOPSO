{
 "cells": [
  {
   "cell_type": "code",
   "execution_count": 47,
   "metadata": {},
   "outputs": [],
   "source": [
    "# FUNCTION TO INITIALISE VELOCITY OF PARTICLES IN POPULATION\n",
    "\n",
    "import random\n",
    "from math import *\n",
    "import numpy\n",
    "\n",
    "\n",
    "def initialise_velocity(COUNT,SWARM_SIZE):\n",
    "    xmin=-5.12\n",
    "    xmax=5.12\n",
    "    vmin=0.25*xmin\n",
    "    vmax=0.25*xmax\n",
    "    init=[[(vmin+random.uniform(0,1)*(vmax-vmin)) for j in range(COUNT)] for i in range(SWARM_SIZE)]\n",
    "    return(init)"
   ]
  },
  {
   "cell_type": "code",
   "execution_count": null,
   "metadata": {},
   "outputs": [],
   "source": []
  },
  {
   "cell_type": "code",
   "execution_count": null,
   "metadata": {},
   "outputs": [],
   "source": []
  },
  {
   "cell_type": "code",
   "execution_count": null,
   "metadata": {},
   "outputs": [],
   "source": []
  }
 ],
 "metadata": {
  "kernelspec": {
   "display_name": "Python 2",
   "language": "python",
   "name": "python2"
  },
  "language_info": {
   "codemirror_mode": {
    "name": "ipython",
    "version": 2
   },
   "file_extension": ".py",
   "mimetype": "text/x-python",
   "name": "python",
   "nbconvert_exporter": "python",
   "pygments_lexer": "ipython2",
   "version": "2.7.14"
  }
 },
 "nbformat": 4,
 "nbformat_minor": 2
}
