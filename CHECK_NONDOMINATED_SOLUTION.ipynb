{
 "cells": [
  {
   "cell_type": "code",
   "execution_count": 3,
   "metadata": {},
   "outputs": [],
   "source": [
    "# FUNCTION TO CHECK NON DOMINATION OF PARTICLES IN POPULATION AND ARCHIVE\n",
    "\n",
    "import random\n",
    "from math import *\n",
    "import numpy\n",
    "import copy\n",
    "\n",
    "\n",
    "\n",
    "def check_nondom(i,archive_temp,no_of_obj_func,ARCHIVE_FIT,PARTICLE_FIT,COUNT,ARCHIVE_VAL):\n",
    "    h=0\n",
    "    while(h<=int(archive_temp[0])):\n",
    "        summ = 0;\n",
    "        if((ARCHIVE_FIT[h][0]<PARTICLE_FIT[i][0]) and (ARCHIVE_FIT[h][1]<PARTICLE_FIT[i][1]) and (ARCHIVE_FIT[h][2]>PARTICLE_FIT[i][2])):\n",
    "            summ+=no_of_obj_func   # if particle in archive dominates\n",
    "            return(0)\n",
    "        elif((ARCHIVE_FIT[h][0]>=PARTICLE_FIT[i][0]) and (ARCHIVE_FIT[h][1]>=PARTICLE_FIT[i][1]) and (ARCHIVE_FIT[h][2]<=PARTICLE_FIT[i][2])):\n",
    "            summ=0     # if particle in archive is dominated , delete it\n",
    "            for j in range(COUNT):\n",
    "                ARCHIVE_VAL[h][j]=ARCHIVE_VAL[int(archive_temp[0])-1][j]\n",
    "            for j in range(no_of_obj_func):\n",
    "                ARCHIVE_FIT[h][j]=ARCHIVE_FIT[int(archive_temp[0])-1][j]\n",
    "            archive_temp[0]-=1\n",
    "        else:\n",
    "            h+=1\n",
    "            \n",
    "    return(1)\n",
    "\n",
    "      \n",
    "   "
   ]
  },
  {
   "cell_type": "code",
   "execution_count": null,
   "metadata": {},
   "outputs": [],
   "source": []
  },
  {
   "cell_type": "code",
   "execution_count": null,
   "metadata": {},
   "outputs": [],
   "source": []
  }
 ],
 "metadata": {
  "kernelspec": {
   "display_name": "Python 2",
   "language": "python",
   "name": "python2"
  },
  "language_info": {
   "codemirror_mode": {
    "name": "ipython",
    "version": 2
   },
   "file_extension": ".py",
   "mimetype": "text/x-python",
   "name": "python",
   "nbconvert_exporter": "python",
   "pygments_lexer": "ipython2",
   "version": "2.7.14"
  }
 },
 "nbformat": 4,
 "nbformat_minor": 2
}
