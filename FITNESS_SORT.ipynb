{
 "cells": [
  {
   "cell_type": "code",
   "execution_count": 1,
   "metadata": {},
   "outputs": [
    {
     "name": "stdout",
     "output_type": "stream",
     "text": [
      "Importing Jupyter notebook from FITNESS_SORT.ipynb\n",
      "Importing Jupyter notebook from FITNESS_SORT.ipynb\n"
     ]
    }
   ],
   "source": [
    "# FUNCTION TO SORT FITNESS VALUES OF PARTICLES IN ARCHIVE\n",
    "\n",
    "import random\n",
    "from math import *\n",
    "import copy\n",
    "import numpy\n",
    "import nbimporter\n",
    "import FITNESS_SORT\n",
    "reload(FITNESS_SORT)\n",
    "\n",
    "\n",
    "def sort_fitness(f,begin,lastpart,no_of_obj_func,COUNT,ARCHIVE_FIT,ARCHIVE_VAL,CrowdList,am):\n",
    "    l=begin+1\n",
    "    r=lastpart\n",
    "    turn=ARCHIVE_FIT[begin][f]\n",
    "    flagF=[[] for i in range(no_of_obj_func)]\n",
    "    flagP=[[] for i in range(COUNT)]\n",
    "    while(l<r):\n",
    "        if(am==1):\n",
    "            if(ARCHIVE_FIT[l][f]>=turn):\n",
    "                l+=1\n",
    "            else:\n",
    "                r-=1\n",
    "                # swap fitness values of two particles in the archive\n",
    "                for k in range(no_of_obj_func):\n",
    "                    flagF[k]=ARCHIVE_FIT[l][k]\n",
    "                    ARCHIVE_FIT[l][k]=ARCHIVE_FIT[r][k]\n",
    "                    ARCHIVE_FIT[r][k]=flagF[k]\n",
    "                #swap positions of two particles in the archive\n",
    "                for k in range(COUNT):\n",
    "                    flagP[k]=ARCHIVE_VAL[l][k]\n",
    "                    ARCHIVE_VAL[l][k]=ARCHIVE_VAL[r][k]\n",
    "                    ARCHIVE_VAL[r][k]=flagP[k]\n",
    "                # swap their crowding distances\n",
    "                temp=CrowdList[l]\n",
    "                CrowdList[l]=CrowdList[r]\n",
    "                CrowdList[r]=temp\n",
    "                \n",
    "        elif(am==2):\n",
    "            if(ARCHIVE_FIT[l][f]<=turn):\n",
    "                l+=1\n",
    "            else:\n",
    "                r-=1\n",
    "                # swap fitness values of two particles in the archive\n",
    "                for k in range(no_of_obj_func):\n",
    "                    flagF[k]=ARCHIVE_FIT[l][k]\n",
    "                    ARCHIVE_FIT[l][k]=ARCHIVE_FIT[r][k]\n",
    "                    ARCHIVE_FIT[r][k]=flagF[k]\n",
    "                #swap positions of two particles in the archive\n",
    "                for k in range(COUNT):\n",
    "                    flagP[k]=ARCHIVE_VAL[l][k]\n",
    "                    ARCHIVE_VAL[l][k]=ARCHIVE_VAL[r][k]\n",
    "                    ARCHIVE_VAL[r][k]=flagP[k]\n",
    "                # swap their crowding distances\n",
    "                temp=CrowdList[l]\n",
    "                CrowdList[l]=CrowdList[r]\n",
    "                CrowdList[r]=temp\n",
    "                \n",
    "            \n",
    "                \n",
    "#     l-=1\n",
    "#     # swap fitness values of two particles in the archive\n",
    "#     for k in range(no_of_obj_func):\n",
    "#         flagF[k]=ARCHIVE_FIT[begin][k]\n",
    "#         ARCHIVE_FIT[begin][k]=ARCHIVE_FIT[l][k]\n",
    "#         ARCHIVE_FIT[l][k]=flagF[k]\n",
    "#     # swap positions of two particles in the archive\n",
    "#     for k in range(COUNT):\n",
    "#         flagP[k]=ARCHIVE_VAL[begin][k]\n",
    "#         ARCHIVE_VAL[begin][k]=ARCHIVE_VAL[l][k]\n",
    "#         ARCHIVE_VAL[l][k]=flagP[k]\n",
    "#     # swap their crowding distances\n",
    "#     temp = CrowdList[begin];\n",
    "#     CrowdList[begin] = CrowdList[l];\n",
    "#     CrowdList[l] = temp;\n",
    "    \n",
    "#     if(l-begin>1):\n",
    "#         lastpart=FITNESS_SORT.sort_fitness(f,begin,lastpart,no_of_obj_func,COUNT,ARCHIVE_FIT,ARCHIVE_VAL,CrowdList,am)\n",
    "#     if((lastpart-r)>1):\n",
    "#         lastpart=FITNESS_SORT.sort_fitness(f,begin,lastpart,no_of_obj_func,COUNT,ARCHIVE_FIT,ARCHIVE_VAL,CrowdList,am)\n",
    "    return(lastpart)"
   ]
  },
  {
   "cell_type": "code",
   "execution_count": null,
   "metadata": {},
   "outputs": [],
   "source": []
  },
  {
   "cell_type": "code",
   "execution_count": null,
   "metadata": {},
   "outputs": [],
   "source": []
  }
 ],
 "metadata": {
  "kernelspec": {
   "display_name": "Python 2",
   "language": "python",
   "name": "python2"
  },
  "language_info": {
   "codemirror_mode": {
    "name": "ipython",
    "version": 2
   },
   "file_extension": ".py",
   "mimetype": "text/x-python",
   "name": "python",
   "nbconvert_exporter": "python",
   "pygments_lexer": "ipython2",
   "version": "2.7.14"
  }
 },
 "nbformat": 4,
 "nbformat_minor": 2
}
