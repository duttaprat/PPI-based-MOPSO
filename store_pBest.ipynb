{
 "cells": [
  {
   "cell_type": "code",
   "execution_count": 4,
   "metadata": {},
   "outputs": [],
   "source": [
    "# FUNCTION TO STORE PERSONAL BEST VALUES OF PARTICLES IN POPULATION \n",
    "\n",
    "import random\n",
    "from math import *\n",
    "import copy\n",
    "\n",
    "\n",
    "def p_Best(pBestPosition,pBestFitness,PARTICLE_VAL,PARTICLE_FIT,SWARM_SIZE,no_of_obj_func,COUNT):\n",
    "    for i in range(SWARM_SIZE): # store personal best positions of particles\n",
    "        for j in range(COUNT):\n",
    "            pBestPosition[i][j]=PARTICLE_VAL[i][j]\n",
    "            \n",
    "    for i in range(SWARM_SIZE): # store personal best fitness values of particles\n",
    "        for j in range(no_of_obj_func):\n",
    "            pBestFitness[i][j]=PARTICLE_FIT[i][j]\n",
    "    "
   ]
  },
  {
   "cell_type": "code",
   "execution_count": null,
   "metadata": {},
   "outputs": [],
   "source": []
  }
 ],
 "metadata": {
  "kernelspec": {
   "display_name": "Python 2",
   "language": "python",
   "name": "python2"
  },
  "language_info": {
   "codemirror_mode": {
    "name": "ipython",
    "version": 2
   },
   "file_extension": ".py",
   "mimetype": "text/x-python",
   "name": "python",
   "nbconvert_exporter": "python",
   "pygments_lexer": "ipython2",
   "version": "2.7.14"
  }
 },
 "nbformat": 4,
 "nbformat_minor": 2
}
