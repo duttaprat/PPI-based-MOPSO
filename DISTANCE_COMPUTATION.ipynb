{
 "cells": [
  {
   "cell_type": "code",
   "execution_count": 1,
   "metadata": {},
   "outputs": [],
   "source": [
    "# FUNCTION TO COMPUTE CROWDING DISTANCE NON DOMINATED PARTICLES\n",
    "\n",
    "import random\n",
    "from math import *\n",
    "import copy\n",
    "\n",
    "def compute_distance(f,no_of_nondom_sol,CrowdList,ARCHIVE_FIT,am):\n",
    "    maximum=1\n",
    "    minimum=1\n",
    "    if(am==1):\n",
    "        for i in range(1,no_of_nondom_sol-1):\n",
    "            print type(ARCHIVE_FIT[i][f][0])\n",
    "            CrowdList[i]=CrowdList[i]+((ARCHIVE_FIT[i+1][f])-(ARCHIVE_FIT[i-1][f]))\n",
    "            if(CrowdList[minimum]>CrowdList[i]):\n",
    "                minimum=i\n",
    "        CrowdList[0]=CrowdList[0]+CrowdList[minimum]\n",
    "        CrowdList[no_of_nondom_sol-1]=CrowdList[no_of_nondom_sol-1]+CrowdList[minimum]\n",
    "        \n",
    "    elif(am==2):\n",
    "        for i in range(1,no_of_nondom_sol-1):\n",
    "            print type(ARCHIVE_FIT[i][f])\n",
    "            CrowdList[i]=CrowdList[i]+((ARCHIVE_FIT[i+1][f])-(ARCHIVE_FIT[i-1][f]))\n",
    "            if(CrowdList[maximum]<CrowdList[i]):\n",
    "                maximum=i\n",
    "        CrowdList[0]=CrowdList[0]+CrowdList[maximum]\n",
    "        CrowdList[no_of_nondom_sol-1]=CrowdList[no_of_nondom_sol-1]+CrowdList[maximum]\n",
    "    \n",
    "    return(no_of_nondom_sol)\n",
    "        \n",
    "    "
   ]
  },
  {
   "cell_type": "code",
   "execution_count": null,
   "metadata": {},
   "outputs": [],
   "source": []
  }
 ],
 "metadata": {
  "kernelspec": {
   "display_name": "Python 2",
   "language": "python",
   "name": "python2"
  },
  "language_info": {
   "codemirror_mode": {
    "name": "ipython",
    "version": 2
   },
   "file_extension": ".py",
   "mimetype": "text/x-python",
   "name": "python",
   "nbconvert_exporter": "python",
   "pygments_lexer": "ipython2",
   "version": "2.7.14"
  }
 },
 "nbformat": 4,
 "nbformat_minor": 2
}
