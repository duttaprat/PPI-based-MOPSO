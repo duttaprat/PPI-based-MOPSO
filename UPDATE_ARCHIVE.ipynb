{
 "cells": [
  {
   "cell_type": "code",
   "execution_count": 4,
   "metadata": {},
   "outputs": [
    {
     "name": "stdout",
     "output_type": "stream",
     "text": [
      "Importing Jupyter notebook from CROWDING.ipynb\n",
      "Importing Jupyter notebook from CHECK_NONDOMINATED_SOLUTION.ipynb\n"
     ]
    }
   ],
   "source": [
    "# FUNCTION TO INSERT NEW NON DOMINATED PARTICLES FROM POPULATION TO ARCHIVE\n",
    "\n",
    "import random\n",
    "from math import *\n",
    "import numpy\n",
    "import copy\n",
    "import nbimporter\n",
    "import CHECK_NONDOMINATED_SOLUTION\n",
    "import CROWDING\n",
    "reload(CROWDING)\n",
    "reload(CHECK_NONDOMINATED_SOLUTION)\n",
    "\n",
    "\n",
    "\n",
    "\n",
    "def update_archive(SWARM_SIZE,no_of_nondom_sol,archive_size,COUNT,ARCHIVE_VAL,PARTICLE_VAL,ARCHIVE_FIT,PARTICLE_FIT,no_of_obj_func):\n",
    "    i=0\n",
    "    for k in range(SWARM_SIZE):\n",
    "        archive_temp=[int(no_of_nondom_sol) for j in range(1)]\n",
    "        # if particle in population is non dominated \n",
    "        if(CHECK_NONDOMINATED_SOLUTION.check_nondom(k,archive_temp,no_of_obj_func,ARCHIVE_FIT,PARTICLE_FIT,COUNT,ARCHIVE_VAL)==1):\n",
    "            no_of_nondom_sol=int(archive_temp[0])\n",
    "            if(no_of_nondom_sol < archive_size): # if archive memory is not full insert particle\n",
    "                i=no_of_nondom_sol \n",
    "                for j in range(COUNT):\n",
    "                    ARCHIVE_VAL[i][j]=PARTICLE_VAL[k][j]\n",
    "                for j in range(no_of_obj_func):\n",
    "                    ARCHIVE_FIT[i][j]=PARTICLE_FIT[k][j]\n",
    "                no_of_nondom_sol+=1\n",
    "            else: # if memory is full , select particle to replace\n",
    "                # compute crowding distances of particles in archive\n",
    "                no_of_nondom_sol=CROWDING.crowding_distance(no_of_nondom_sol,no_of_obj_func,COUNT,ARCHIVE_FIT,ARCHIVE_VAL)\n",
    "                bottom=(no_of_nondom_sol-1)*0.90\n",
    "                i=random.randint(bottom,no_of_nondom_sol-1)\n",
    "                # insert new particles in archive\n",
    "                for j in range(COUNT):\n",
    "                    ARCHIVE_VAL[i][j]=PARTICLE_VAL[k][j]\n",
    "                for j in range(no_of_obj_func):\n",
    "                    ARCHIVE_FIT[i][j]=PARTICLE_FIT[i][j]\n",
    "    return(no_of_nondom_sol)\n",
    "    "
   ]
  },
  {
   "cell_type": "code",
   "execution_count": null,
   "metadata": {},
   "outputs": [],
   "source": []
  }
 ],
 "metadata": {
  "kernelspec": {
   "display_name": "Python 2",
   "language": "python",
   "name": "python2"
  },
  "language_info": {
   "codemirror_mode": {
    "name": "ipython",
    "version": 2
   },
   "file_extension": ".py",
   "mimetype": "text/x-python",
   "name": "python",
   "nbconvert_exporter": "python",
   "pygments_lexer": "ipython2",
   "version": "2.7.14"
  }
 },
 "nbformat": 4,
 "nbformat_minor": 2
}
