{
 "cells": [
  {
   "cell_type": "code",
   "execution_count": 2,
   "metadata": {},
   "outputs": [
    {
     "name": "stdout",
     "output_type": "stream",
     "text": [
      "Importing Jupyter notebook from CROWDING.ipynb\n",
      "Importing Jupyter notebook from DELETE_PARTICLE.ipynb\n"
     ]
    }
   ],
   "source": [
    "# FUNCTION TO INSERT NONDOMINATED PARTICLES FROM POPULATION INTO ARCHIVE\n",
    "\n",
    "import nbimporter\n",
    "import random\n",
    "from math import *\n",
    "import copy\n",
    "import numpy\n",
    "import DELETE_PARTICLE\n",
    "import CROWDING\n",
    "reload(CROWDING)\n",
    "reload(DELETE_PARTICLE)\n",
    "\n",
    "\n",
    "def initialise_nondom_sol(no_of_nondom_sol,SWARM_SIZE,ARCHIVE_VAL,ARCHIVE_FIT,PARTICLE_VAL,PARTICLE_FIT,no_of_obj_func,archive_size,COUNT):\n",
    "    flag=0\n",
    "    for i in range(SWARM_SIZE):\n",
    "        if(no_of_nondom_sol==0): # if archive is empty\n",
    "            # insert nondominated solution from population into archive\n",
    "            for j in range(COUNT):\n",
    "                ARCHIVE_VAL[no_of_nondom_sol][j]=PARTICLE_VAL[i][j]\n",
    "            for j in range(no_of_obj_func):\n",
    "                ARCHIVE_FIT[no_of_nondom_sol][j]=PARTICLE_FIT[i][j]\n",
    "            no_of_nondom_sol+=1\n",
    "        else: # if archive is not empty\n",
    "            flag=1\n",
    "            for k in range(no_of_nondom_sol):\n",
    "                total=0\n",
    "                # check for non domination\n",
    "                for j in range(no_of_obj_func):\n",
    "                    if(((PARTICLE_FIT[i][j] < ARCHIVE_FIT[k][j]) and (j==0 | j==1)) or ((PARTICLE_FIT[i][j] > ARCHIVE_FIT[k][j]) and (j==2))):\n",
    "                        total +=1;\n",
    "                    if(total==no_of_obj_func): # if particle in population dominates\n",
    "                    # delete particle in archive\n",
    "                        no_of_nondom_sol=DELETE_PARTICLE.delete_particle(k,no_of_obj_func,no_of_nondom_sol,ARCHIVE_FIT)\n",
    "                    elif(total==0): # particle in archive dominates\n",
    "                        flag=0\n",
    "                        break\n",
    "            \n",
    "            if(flag==1):\n",
    "                if(no_of_nondom_sol < archive_size):# if archive memory is not full , insert particle\n",
    "                    for j in range(COUNT):\n",
    "                        ARCHIVE_VAL[no_of_nondom_sol][j]=PARTICLE_VAL[i][j]\n",
    "                    for j in range(no_of_obj_func):\n",
    "                        ARCHIVE_FIT[no_of_nondom_sol][j]=PARTICLE_FIT[i][j]\n",
    "                    no_of_nondom_sol+=1\n",
    "                else: # if archive memory is full , select particle to replace\n",
    "                    # compute crowding distance values for particles in archive\n",
    "                    no_of_nondom_sol=CROWDING.crowding_distance(no_of_nondom_sol,no_of_obj_func,COUNT,ARCHIVE_FIT,ARCHIVE_VAL)\n",
    "                    temp=(no_of_nondom_sol-1)*0.90\n",
    "                    k=random.randint(int(temp),no_of_nondom_sol-1)\n",
    "                    for j in range(COUNT):\n",
    "                        ARCHIVE_VAL[k][j]=PARTICLE_VAL[i][j]\n",
    "                    for j in range(no_of_obj_func):\n",
    "                        ARCHIVE_FIT[k][j]=PARTICLE_FIT[i][j] \n",
    "            \n",
    "    return(no_of_nondom_sol)\n",
    "\n",
    "                \n",
    "                    \n",
    "                    \n",
    "                    \n",
    "\n",
    "    \n",
    "                \n",
    "            "
   ]
  },
  {
   "cell_type": "code",
   "execution_count": null,
   "metadata": {},
   "outputs": [],
   "source": []
  }
 ],
 "metadata": {
  "kernelspec": {
   "display_name": "Python 2",
   "language": "python",
   "name": "python2"
  },
  "language_info": {
   "codemirror_mode": {
    "name": "ipython",
    "version": 2
   },
   "file_extension": ".py",
   "mimetype": "text/x-python",
   "name": "python",
   "nbconvert_exporter": "python",
   "pygments_lexer": "ipython2",
   "version": "2.7.14"
  }
 },
 "nbformat": 4,
 "nbformat_minor": 2
}
