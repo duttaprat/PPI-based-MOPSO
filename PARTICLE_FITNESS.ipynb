{
 "cells": [
  {
   "cell_type": "code",
   "execution_count": 1,
   "metadata": {},
   "outputs": [
    {
     "name": "stdout",
     "output_type": "stream",
     "text": [
      "Importing Jupyter notebook from WEIGHTED_T_SCORE.ipynb\n",
      "Importing Jupyter notebook from WEIGHTED_Z_SCORE.ipynb\n",
      "Importing Jupyter notebook from INTERACTION_SCORE.ipynb\n",
      "Importing Jupyter notebook from WEIGHTED_T_SCORE.ipynb\n",
      "Importing Jupyter notebook from WEIGHTED_Z_SCORE.ipynb\n",
      "Importing Jupyter notebook from INTERACTION_SCORE.ipynb\n"
     ]
    }
   ],
   "source": [
    "# FUNCTION TO CALCULATE FITNESS VALUES OF PARTICLES IN POPULATION\n",
    "\n",
    "import nbimporter\n",
    "import random\n",
    "import WEIGHTED_T_SCORE\n",
    "import WEIGHTED_Z_SCORE\n",
    "import INTERACTION_SCORE\n",
    "reload(WEIGHTED_T_SCORE)\n",
    "reload(WEIGHTED_Z_SCORE)\n",
    "reload(INTERACTION_SCORE)\n",
    "\n",
    "\n",
    "def update_particle(PARTICLE_FIT,no_of_obj_function,POP_SIZE):\n",
    "    T_SCORE=WEIGHTED_T_SCORE.Weighted_T_Score(POP_SIZE) \n",
    "    Z_SCORE=WEIGHTED_Z_SCORE.Weighted_Z_Score(POP_SIZE)\n",
    "    I_SCORE=INTERACTION_SCORE.Interaction_Score(POP_SIZE)\n",
    "    for i in range(int(POP_SIZE)):\n",
    "        PARTICLE_FIT[i][0]=T_SCORE[i]\n",
    "        PARTICLE_FIT[i][1]=Z_SCORE[i]\n",
    "        PARTICLE_FIT[i][2]=I_SCORE[i]\n",
    "        \n",
    "    return(PARTICLE_FIT)\n",
    "            \n"
   ]
  },
  {
   "cell_type": "code",
   "execution_count": null,
   "metadata": {},
   "outputs": [],
   "source": []
  },
  {
   "cell_type": "code",
   "execution_count": null,
   "metadata": {},
   "outputs": [],
   "source": []
  }
 ],
 "metadata": {
  "kernelspec": {
   "display_name": "Python 2",
   "language": "python",
   "name": "python2"
  },
  "language_info": {
   "codemirror_mode": {
    "name": "ipython",
    "version": 2
   },
   "file_extension": ".py",
   "mimetype": "text/x-python",
   "name": "python",
   "nbconvert_exporter": "python",
   "pygments_lexer": "ipython2",
   "version": "2.7.14"
  }
 },
 "nbformat": 4,
 "nbformat_minor": 2
}
