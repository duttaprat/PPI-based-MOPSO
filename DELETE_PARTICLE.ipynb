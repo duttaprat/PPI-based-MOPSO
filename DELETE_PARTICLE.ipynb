{
 "cells": [
  {
   "cell_type": "code",
   "execution_count": 1,
   "metadata": {},
   "outputs": [],
   "source": [
    "# FUNCTION TO DELETE PARTICLE IN ARCHIVE\n",
    "\n",
    "import random\n",
    "from math import *\n",
    "import copy\n",
    "import numpy\n",
    "\n",
    "\n",
    "def delete_particle(k,no_of_obj_func,no_of_nondom_sol,ARCHIVE_FIT):\n",
    "    # if infeasible particle is the last in archive or only one particle in archive\n",
    "    if((no_of_nondom_sol== 1) | (k == no_of_nondom_sol-1)):\n",
    "        no_of_nondom_sol-=1\n",
    "    # move last particle in archive in place of infeasible particle\n",
    "    else:\n",
    "        for j in range(no_of_obj_func):\n",
    "            ARCHIVE_FIT[k][j]=ARCHIVE_FIT[no_of_nondom_sol-1][j]\n",
    "        no_of_nondom_sol-= 1;\n",
    "    return(no_of_nondom_sol)\n",
    "    \n",
    "    "
   ]
  },
  {
   "cell_type": "code",
   "execution_count": null,
   "metadata": {},
   "outputs": [],
   "source": []
  }
 ],
 "metadata": {
  "kernelspec": {
   "display_name": "Python 2",
   "language": "python",
   "name": "python2"
  },
  "language_info": {
   "codemirror_mode": {
    "name": "ipython",
    "version": 2
   },
   "file_extension": ".py",
   "mimetype": "text/x-python",
   "name": "python",
   "nbconvert_exporter": "python",
   "pygments_lexer": "ipython2",
   "version": "2.7.14"
  }
 },
 "nbformat": 4,
 "nbformat_minor": 2
}
