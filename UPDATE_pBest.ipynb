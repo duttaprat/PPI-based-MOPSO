{
 "cells": [
  {
   "cell_type": "code",
   "execution_count": 1,
   "metadata": {},
   "outputs": [],
   "source": [
    "# FUNCTION TO UPDATE PERSONAL BEST OF PARTICLES IN THE POPULATION\n",
    "\n",
    "import random\n",
    "from math import *\n",
    "import numpy\n",
    "import copy\n",
    "\n",
    "\n",
    "def update_pBest(SWARM_SIZE,no_of_obj_func,PARTICLE_FIT,pBestFitness,COUNT,pBestPosition,PARTICLE_VAL):\n",
    "    summ=0\n",
    "    for i in range(SWARM_SIZE):\n",
    "        summ=0 \n",
    "        if((PARTICLE_FIT[i][0]<pBestFitness[i][0]) and (PARTICLE_FIT[i][1]<pBestFitness[i][1]) and (PARTICLE_FIT[i][2]>pBestFitness[i][2])):\n",
    "            summ+=no_of_obj_func\n",
    "        elif((PARTICLE_FIT[i][0]>pBestFitness[i][0]) and (PARTICLE_FIT[i][1]>pBestFitness[i][1]) and (PARTICLE_FIT[i][2]<pBestFitness[i][2])):\n",
    "            summ=0\n",
    "        else:\n",
    "            summ=1\n",
    "        if(summ==no_of_obj_func):\n",
    "            measure=0\n",
    "        else:\n",
    "            if(summ==0):\n",
    "                measure=1\n",
    "            else:\n",
    "                measure=random.randint(0,1)\n",
    "        if(measure==0):\n",
    "            for j in range(no_of_obj_func):\n",
    "                pBestFitness[i][j]=PARTICLE_FIT[i][j]\n",
    "            for j in range(COUNT):\n",
    "                pBestPosition[i][j]=PARTICLE_VAL[i][j]\n"
   ]
  },
  {
   "cell_type": "code",
   "execution_count": null,
   "metadata": {},
   "outputs": [],
   "source": []
  }
 ],
 "metadata": {
  "kernelspec": {
   "display_name": "Python 2",
   "language": "python",
   "name": "python2"
  },
  "language_info": {
   "codemirror_mode": {
    "name": "ipython",
    "version": 2
   },
   "file_extension": ".py",
   "mimetype": "text/x-python",
   "name": "python",
   "nbconvert_exporter": "python",
   "pygments_lexer": "ipython2",
   "version": "2.7.14"
  }
 },
 "nbformat": 4,
 "nbformat_minor": 2
}
