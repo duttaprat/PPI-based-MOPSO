{
 "cells": [
  {
   "cell_type": "code",
   "execution_count": 2,
   "metadata": {},
   "outputs": [],
   "source": [
    "# FUNCTION TO COMPUTE NEW VELOCITY AND POSITION FOR INDIVIDUAL PARTICLE IN POPULATION\n",
    "\n",
    "import random\n",
    "from math import *\n",
    "import numpy\n",
    "import copy\n",
    "\n",
    "def update_velocity_position(no_of_nondom_sol,SWARM_SIZE,COUNT,VELOCITY,pBestPosition,PARTICLE_VAL,ARCHIVE_VAL):\n",
    "    flag=(no_of_nondom_sol-1)*0.10\n",
    "    for i in range(SWARM_SIZE):\n",
    "        gBest=random.randint(0,int(flag))\n",
    "        # compute new velocities for particles\n",
    "        for j in range(COUNT):\n",
    "            VELOCITY[i][j]=0.79*VELOCITY[i][j]+2.0*random.random()*(pBestPosition[i][j]-PARTICLE_VAL[i][j])+2.0*random.random()*(ARCHIVE_VAL[gBest][j]-PARTICLE_VAL[i][j])\n",
    "    # compute new positions for each particle in the population\n",
    "    for i in range(SWARM_SIZE):\n",
    "        for j in range(COUNT):\n",
    "            PARTICLE_VAL[i][j]=PARTICLE_VAL[i][j]+VELOCITY[i][j]\n",
    "            \n",
    "    return(no_of_nondom_sol)\n",
    "            \n",
    "        \n",
    "    "
   ]
  },
  {
   "cell_type": "code",
   "execution_count": null,
   "metadata": {},
   "outputs": [],
   "source": []
  },
  {
   "cell_type": "code",
   "execution_count": null,
   "metadata": {},
   "outputs": [],
   "source": []
  }
 ],
 "metadata": {
  "kernelspec": {
   "display_name": "Python 2",
   "language": "python",
   "name": "python2"
  },
  "language_info": {
   "codemirror_mode": {
    "name": "ipython",
    "version": 2
   },
   "file_extension": ".py",
   "mimetype": "text/x-python",
   "name": "python",
   "nbconvert_exporter": "python",
   "pygments_lexer": "ipython2",
   "version": "2.7.14"
  }
 },
 "nbformat": 4,
 "nbformat_minor": 2
}
